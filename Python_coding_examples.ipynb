{
  "nbformat": 4,
  "nbformat_minor": 0,
  "metadata": {
    "colab": {
      "provenance": [],
      "toc_visible": true,
      "authorship_tag": "ABX9TyOPOnDo5i3puuJQyNBF4nFO",
      "include_colab_link": true
    },
    "kernelspec": {
      "name": "python3",
      "display_name": "Python 3"
    },
    "language_info": {
      "name": "python"
    }
  },
  "cells": [
    {
      "cell_type": "markdown",
      "metadata": {
        "id": "view-in-github",
        "colab_type": "text"
      },
      "source": [
        "<a href=\"https://colab.research.google.com/github/ShashiKant-MLCloud/Python-projectCode/blob/main/Python_coding_examples.ipynb\" target=\"_parent\"><img src=\"https://colab.research.google.com/assets/colab-badge.svg\" alt=\"Open In Colab\"/></a>"
      ]
    },
    {
      "cell_type": "markdown",
      "source": [
        "### 1. **String reversal**\n",
        "*Write a function that accepts string as input and returns the reversed string*\n",
        "\n",
        "\n",
        "\n"
      ],
      "metadata": {
        "id": "92O2l802uSoe"
      }
    },
    {
      "cell_type": "code",
      "execution_count": null,
      "metadata": {
        "colab": {
          "base_uri": "https://localhost:8080/"
        },
        "id": "g6jTooaTrslv",
        "outputId": "100e4642-22f9-4eb3-b97a-df8871522479"
      },
      "outputs": [
        {
          "output_type": "stream",
          "name": "stdout",
          "text": [
            "Reversed string: dlroW ,olleH\n"
          ]
        }
      ],
      "source": [
        "def string_reverse(inputString):\n",
        "  return inputString[::-1]\n",
        "\n",
        "string = \"Hello, World\"\n",
        "print(\"Reversed string:\", string_reverse(string))"
      ]
    },
    {
      "cell_type": "markdown",
      "source": [
        "### 2. List Comprehension\n",
        "Write a program that takes a list of numbers and returns a new list containing only the even numbers\n",
        "\n"
      ],
      "metadata": {
        "id": "_c0CHega0PWj"
      }
    },
    {
      "cell_type": "code",
      "source": [
        "def even_list(lst):\n",
        "  even_number=[]\n",
        "  for element in lst:\n",
        "    if (element%2==0):\n",
        "      even_number.append(element)\n",
        "  return even_number\n",
        "\n",
        "print(even_list([1, 2, 3, 4, 5, 6, 7, 8, 9, 10]))"
      ],
      "metadata": {
        "colab": {
          "base_uri": "https://localhost:8080/"
        },
        "id": "2T9xHccL0nnB",
        "outputId": "cbbecffa-0896-45b8-cd3a-1e8c379a4286"
      },
      "execution_count": null,
      "outputs": [
        {
          "output_type": "stream",
          "name": "stdout",
          "text": [
            "[2, 4, 6, 8, 10]\n"
          ]
        }
      ]
    },
    {
      "cell_type": "code",
      "source": [
        "def even_list_v2(lst):\n",
        "  return [element for element in lst if element%2==0]\n",
        "\n",
        "print(even_list_v2([1, 2, 3, 4, 5, 6, 7, 8, 9, 10]))"
      ],
      "metadata": {
        "colab": {
          "base_uri": "https://localhost:8080/"
        },
        "id": "jYGKBRZF_8VM",
        "outputId": "01a06d48-9161-4b34-bf2c-c5a352b03c28"
      },
      "execution_count": null,
      "outputs": [
        {
          "output_type": "stream",
          "name": "stdout",
          "text": [
            "[2, 4, 6, 8, 10]\n"
          ]
        }
      ]
    },
    {
      "cell_type": "markdown",
      "source": [
        "### 3. Anagrams\n",
        "Write a function that takes two strings as input and returns True if they are anagrams (contain the same characters with the same frequency), False otherwise."
      ],
      "metadata": {
        "id": "YzqLG0k7Zk5C"
      }
    },
    {
      "cell_type": "code",
      "source": [
        "def string_anagrams(string1,string2):\n",
        "  Astring=string1.replace(\" \", \"\").lower()\n",
        "  Bstring=string2.replace(\" \", \"\").lower()\n",
        "  return sorted(Astring)==sorted(Bstring)\n",
        "\n",
        "string1='Silent'\n",
        "string2='Listen'\n",
        "if string_anagrams(string1,string2):\n",
        "  print(\"Strings are anagrams\")\n",
        "else:\n",
        "  print(\"Strings are not anagrams\")\n",
        "\n"
      ],
      "metadata": {
        "colab": {
          "base_uri": "https://localhost:8080/"
        },
        "id": "6YCsHLFZZyfI",
        "outputId": "c8a65f97-e515-4f60-f69a-995cfdf64c6e"
      },
      "execution_count": null,
      "outputs": [
        {
          "output_type": "stream",
          "name": "stdout",
          "text": [
            "Strings are anagrams\n"
          ]
        }
      ]
    },
    {
      "cell_type": "markdown",
      "source": [
        "### 4. Prime number check"
      ],
      "metadata": {
        "id": "Vk-NcIRIgNfU"
      }
    },
    {
      "cell_type": "code",
      "source": [
        "def prime_check(num):\n",
        "  if num<1:\n",
        "    print(num, \" is not a prime number\")\n",
        "  for i in range(2,int(num/2)+1):\n",
        "    if (num%i==0):\n",
        "      print(num,\"is not a prime number\")\n",
        "      break;\n",
        "  print(num, \"is a prime number\")\n",
        "\n",
        "prime_check(23)"
      ],
      "metadata": {
        "colab": {
          "base_uri": "https://localhost:8080/"
        },
        "id": "b33Mq0DhgYde",
        "outputId": "3c98eea6-9399-4f95-b758-bb2b4e27c24f"
      },
      "execution_count": null,
      "outputs": [
        {
          "output_type": "stream",
          "name": "stdout",
          "text": [
            "23 is a prime number\n"
          ]
        }
      ]
    },
    {
      "cell_type": "markdown",
      "source": [
        "### 5. Linear search"
      ],
      "metadata": {
        "id": "yxH_L7jfntK-"
      }
    },
    {
      "cell_type": "code",
      "source": [
        "def linear_search(lst, target):\n",
        "  for i,num in enumerate(lst):\n",
        "    if num==target:\n",
        "      return i\n",
        "  return -1\n",
        "\n",
        "numbers = [2, 4, 6, 8, 10]\n",
        "target = 16\n",
        "print(\"Index:\", linear_search(numbers, target))"
      ],
      "metadata": {
        "colab": {
          "base_uri": "https://localhost:8080/"
        },
        "id": "V2oqLzzQnznr",
        "outputId": "5456b323-d147-4abc-be44-e76d8fdbc44d"
      },
      "execution_count": null,
      "outputs": [
        {
          "output_type": "stream",
          "name": "stdout",
          "text": [
            "Index: -1\n"
          ]
        }
      ]
    },
    {
      "cell_type": "markdown",
      "source": [
        "### 6. Class"
      ],
      "metadata": {
        "id": "m2Q6fJSucnbt"
      }
    },
    {
      "cell_type": "code",
      "source": [
        "# build a Dog class\n",
        "class Dog:\n",
        "  # Create a class atrribute species \"Canis Familiaris\"\n",
        "  species=\"Canis Familiaris\"\n",
        "  # Each dog should have name and age\n",
        "  # Standard method\n",
        "  def __init__(self,name,age):\n",
        "    self.name=name\n",
        "    self.age=age\n",
        "  # It should print nicely\n",
        "  # Standard method\n",
        "  def __str__(self):\n",
        "    return f\"{self.name} is {self.age} years old\"\n",
        "\n",
        "  # Custom method\n",
        "  def speak(self,sound):\n",
        "    return f\"{self.name} makes {self.sound} sound\"\n",
        "\n",
        "\n",
        "# Class execution\n",
        "philo=Dog(\"Philo\",12)\n",
        "print(philo)\n",
        "\n",
        "\n",
        "\n",
        "\n",
        "\n",
        "\n",
        "#"
      ],
      "metadata": {
        "colab": {
          "base_uri": "https://localhost:8080/"
        },
        "id": "9NSrYBysctUo",
        "outputId": "30f21a57-a1fb-445f-aebc-fa5c977a7fbc"
      },
      "execution_count": 3,
      "outputs": [
        {
          "output_type": "stream",
          "name": "stdout",
          "text": [
            "Philo is 12 years old\n"
          ]
        }
      ]
    },
    {
      "cell_type": "markdown",
      "source": [
        "### 7. Data Structures"
      ],
      "metadata": {
        "id": "QMl2Vfc5uFBq"
      }
    },
    {
      "cell_type": "code",
      "source": [],
      "metadata": {
        "id": "zDyGdwD_uwpk"
      },
      "execution_count": null,
      "outputs": []
    }
  ]
}