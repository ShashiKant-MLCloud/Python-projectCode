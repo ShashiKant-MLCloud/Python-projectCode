{
  "nbformat": 4,
  "nbformat_minor": 0,
  "metadata": {
    "colab": {
      "provenance": [],
      "toc_visible": true,
      "authorship_tag": "ABX9TyOBv93830quPKlTLPp/02Uk",
      "include_colab_link": true
    },
    "kernelspec": {
      "name": "python3",
      "display_name": "Python 3"
    },
    "language_info": {
      "name": "python"
    }
  },
  "cells": [
    {
      "cell_type": "markdown",
      "metadata": {
        "id": "view-in-github",
        "colab_type": "text"
      },
      "source": [
        "<a href=\"https://colab.research.google.com/github/ShashiKant-MLCloud/Python-projectCode/blob/main/Python_coding_examples.ipynb\" target=\"_parent\"><img src=\"https://colab.research.google.com/assets/colab-badge.svg\" alt=\"Open In Colab\"/></a>"
      ]
    },
    {
      "cell_type": "markdown",
      "source": [
        "### 1. **String reversal**\n",
        "*Write a function that accepts string as input and returns the reversed string*\n",
        "\n",
        "\n",
        "\n"
      ],
      "metadata": {
        "id": "92O2l802uSoe"
      }
    },
    {
      "cell_type": "code",
      "execution_count": 13,
      "metadata": {
        "colab": {
          "base_uri": "https://localhost:8080/"
        },
        "id": "g6jTooaTrslv",
        "outputId": "da3a70bb-733f-45f4-849b-f469647b8c6d"
      },
      "outputs": [
        {
          "output_type": "stream",
          "name": "stdout",
          "text": [
            "Reversed string: dlroW ,olleH\n"
          ]
        }
      ],
      "source": [
        "def string_reverse(inputString):\n",
        "  return inputString[::-1]\n",
        "\n",
        "string = \"Hello, World\"\n",
        "print(\"Reversed string:\", string_reverse(string))"
      ]
    },
    {
      "cell_type": "markdown",
      "source": [
        "### 2. List Comprehension\n",
        "Write a program that takes a list of numbers and returns a new list containing only the even numbers\n",
        "\n"
      ],
      "metadata": {
        "id": "_c0CHega0PWj"
      }
    },
    {
      "cell_type": "code",
      "source": [
        "def even_list(lst):\n",
        "  even_number=[]\n",
        "  for element in lst:\n",
        "    if (element%2==0):\n",
        "      even_number.append(element)\n",
        "  return even_number\n",
        "\n",
        "print(even_list([1, 2, 3, 4, 5, 6, 7, 8, 9, 10]))"
      ],
      "metadata": {
        "colab": {
          "base_uri": "https://localhost:8080/"
        },
        "id": "2T9xHccL0nnB",
        "outputId": "cbbecffa-0896-45b8-cd3a-1e8c379a4286"
      },
      "execution_count": 3,
      "outputs": [
        {
          "output_type": "stream",
          "name": "stdout",
          "text": [
            "[2, 4, 6, 8, 10]\n"
          ]
        }
      ]
    },
    {
      "cell_type": "code",
      "source": [
        "def even_list_v2(lst):\n",
        "  return [element for element in lst if element%2==0]\n",
        "\n",
        "print(even_list_v2([1, 2, 3, 4, 5, 6, 7, 8, 9, 10]))"
      ],
      "metadata": {
        "colab": {
          "base_uri": "https://localhost:8080/"
        },
        "id": "jYGKBRZF_8VM",
        "outputId": "01a06d48-9161-4b34-bf2c-c5a352b03c28"
      },
      "execution_count": 2,
      "outputs": [
        {
          "output_type": "stream",
          "name": "stdout",
          "text": [
            "[2, 4, 6, 8, 10]\n"
          ]
        }
      ]
    }
  ]
}